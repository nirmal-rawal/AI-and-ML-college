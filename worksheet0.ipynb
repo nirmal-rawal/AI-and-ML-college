{
  "nbformat": 4,
  "nbformat_minor": 0,
  "metadata": {
    "colab": {
      "provenance": []
    },
    "kernelspec": {
      "name": "python3",
      "display_name": "Python 3"
    },
    "language_info": {
      "name": "python"
    }
  },
  "cells": [
    {
      "cell_type": "markdown",
      "source": [
        "# ***Student_Name=Nirmal Rawal***\n",
        "# ***Student_Id =2358113***"
      ],
      "metadata": {
        "id": "_tYmmpH4I1B1"
      }
    },
    {
      "cell_type": "markdown",
      "source": [
        "# 4 TO - DO - Task\n",
        "Please complete all the problem listed below.\n",
        "# 4.1 Exercise on Functions:\n",
        "Task - 1:\n",
        "Create a Python program that converts between different units of measurement.\n",
        "• The program should:\n",
        "1. Prompt the user to choose the type of conversion (e.g., length, weight, volume).\n",
        "2. Ask the user to input the value to be converted.\n",
        "3. Perform the conversion and display the result.\n",
        "4. Handle potential errors, such as invalid input or unsupported conversion types.\n",
        "• Requirements:\n",
        "1. Functions: Define at least one function to perform the conversion.\n",
        "2. Error Handling: Use try-except blocks to handle invalid input (e.g., non-numeric values).\n",
        "3. User Input: Prompt the user to select the conversion type and input the value.\n",
        "4. Docstrings: Include a docstring in your function to describe its purpose, parameters, and\n",
        "return value.\n",
        "\n",
        "\n",
        "# • Conversion Options:\n",
        "1. Length:\n",
        "– Convert meters (m) to feet (ft).\n",
        "– Convert feet (ft) to meters (m).\n",
        "2. Weight:\n",
        "– Convert kilograms (kg) to pounds (lbs).\n",
        "– Convert pounds (lbs) to kilograms (kg).\n",
        "3. Volume:\n",
        "– Convert liters (L) to gallons (gal).\n",
        "– Convert gallons (gal) to liters (L)."
      ],
      "metadata": {
        "id": "kxXJdLiD5qGA"
      }
    },
    {
      "cell_type": "code",
      "execution_count": null,
      "metadata": {
        "colab": {
          "base_uri": "https://localhost:8080/"
        },
        "id": "P3eh4F965OV9",
        "outputId": "9a4255b1-9b09-4650-9430-750ce0b873f0"
      },
      "outputs": [
        {
          "output_type": "stream",
          "name": "stdout",
          "text": [
            "Welcome to the Unit Converter!\n",
            "Please select the type of conversion:\n",
            "1. Length\n",
            "2. Weight\n",
            "3. Volume\n",
            "Enter the number corresponding to your choice: 2\n",
            "Enter the value to be converted: 78\n",
            "Select weight conversion:\n",
            "1. Kilograms (kg) to Pounds (lbs)\n",
            "2. Pounds (lbs) to Kilograms (kg)\n",
            "Enter your choice: 1\n",
            "78.0 kilograms is equal to 171.96 pounds.\n"
          ]
        }
      ],
      "source": [
        "def main():\n",
        "\n",
        "    print(\"Welcome to the Unit Converter!\")\n",
        "    print(\"Please select the type of conversion:\")\n",
        "    print(\"1. Length\")\n",
        "    print(\"2. Weight\")\n",
        "    print(\"3. Volume\")\n",
        "\n",
        "    try:\n",
        "        # Prompt user to select conversion type\n",
        "        conversion_type = int(input(\"Enter the number corresponding to your choice: \"))\n",
        "\n",
        "        if conversion_type not in [1, 2, 3]:\n",
        "            print(\"Invalid choice. Please enter a valid number.\")\n",
        "            return\n",
        "\n",
        "        # Prompt user to input the value to be converted\n",
        "        value = float(input(\"Enter the value to be converted: \"))\n",
        "\n",
        "        if conversion_type == 1:\n",
        "            # Length conversion\n",
        "            print(\"Select length conversion:\")\n",
        "            print(\"1. Meters (m) to Feet (ft)\")\n",
        "            print(\"2. Feet (ft) to Meters (m)\")\n",
        "            length_choice = int(input(\"Enter your choice: \"))\n",
        "\n",
        "            if length_choice == 1:\n",
        "                result = convert_length(value, 'm', 'ft')\n",
        "                print(f\"{value} meters is equal to {result:.2f} feet.\")\n",
        "            elif length_choice == 2:\n",
        "                result = convert_length(value, 'ft', 'm')\n",
        "                print(f\"{value} feet is equal to {result:.2f} meters.\")\n",
        "            else:\n",
        "                print(\"Invalid choice for length conversion.\")\n",
        "\n",
        "        elif conversion_type == 2:\n",
        "            # Weight conversion\n",
        "            print(\"Select weight conversion:\")\n",
        "            print(\"1. Kilograms (kg) to Pounds (lbs)\")\n",
        "            print(\"2. Pounds (lbs) to Kilograms (kg)\")\n",
        "            weight_choice = int(input(\"Enter your choice: \"))\n",
        "\n",
        "            if weight_choice == 1:\n",
        "                result = convert_weight(value, 'kg', 'lbs')\n",
        "                print(f\"{value} kilograms is equal to {result:.2f} pounds.\")\n",
        "            elif weight_choice == 2:\n",
        "                result = convert_weight(value, 'lbs', 'kg')\n",
        "                print(f\"{value} pounds is equal to {result:.2f} kilograms.\")\n",
        "            else:\n",
        "                print(\"Invalid choice for weight conversion.\")\n",
        "\n",
        "        elif conversion_type == 3:\n",
        "            # Volume conversion\n",
        "            print(\"Select volume conversion:\")\n",
        "            print(\"1. Liters (L) to Gallons (gal)\")\n",
        "            print(\"2. Gallons (gal) to Liters (L)\")\n",
        "            volume_choice = int(input(\"Enter your choice: \"))\n",
        "\n",
        "            if volume_choice == 1:\n",
        "                result = convert_volume(value, 'L', 'gal')\n",
        "                print(f\"{value} liters is equal to {result:.2f} gallons.\")\n",
        "            elif volume_choice == 2:\n",
        "                result = convert_volume(value, 'gal', 'L')\n",
        "                print(f\"{value} gallons is equal to {result:.2f} liters.\")\n",
        "            else:\n",
        "                print(\"Invalid choice for volume conversion.\")\n",
        "\n",
        "    except ValueError as e:\n",
        "        # Handle invalid input (non-numeric values)\n",
        "        print(f\"Error: {e}. Please enter a valid number.\")\n",
        "\n",
        "\n",
        "def convert_length(value, from_unit, to_unit):\n",
        "\n",
        "    if from_unit == 'm' and to_unit == 'ft':\n",
        "        return value * 3.28084\n",
        "    elif from_unit == 'ft' and to_unit == 'm':\n",
        "        return value / 3.28084\n",
        "    else:\n",
        "        raise ValueError(\"Unsupported length conversion units.\")\n",
        "\n",
        "\n",
        "def convert_weight(value, from_unit, to_unit):\n",
        "\n",
        "    if from_unit == 'kg' and to_unit == 'lbs':\n",
        "        return value * 2.20462\n",
        "    elif from_unit == 'lbs' and to_unit == 'kg':\n",
        "        return value / 2.20462\n",
        "    else:\n",
        "        raise ValueError(\"Unsupported weight conversion units.\")\n",
        "\n",
        "\n",
        "def convert_volume(value, from_unit, to_unit):\n",
        "\n",
        "    if from_unit == 'L' and to_unit == 'gal':\n",
        "        return value * 0.264172\n",
        "    elif from_unit == 'gal' and to_unit == 'L':\n",
        "        return value / 0.264172\n",
        "    else:\n",
        "        raise ValueError(\"Unsupported volume conversion units.\")\n",
        "\n",
        "\n",
        "if __name__ == \"__main__\":\n",
        "    main()"
      ]
    },
    {
      "cell_type": "markdown",
      "source": [
        "# Task - 2:\n",
        "# Create a Python program that performs various mathematical operations on a list of numbers.\n",
        "• The Program should:\n",
        "1. Prompt the user to choose an operation (e.g., find the sum, average, maximum, or minimum\n",
        "of the numbers).\n",
        "2. Ask the user to input a list of numbers (separated by spaces).\n",
        "\n",
        "18\n",
        "\n",
        "\n",
        "\n",
        "3. Perform the selected operation and display the result.\n",
        "4. Handle potential errors, such as invalid input or empty lists.\n",
        "• Requirements:\n",
        "\n",
        "1. Functions: Define at least one function for each operation (sum, average, maximum, mini-\n",
        "mum).\n",
        "\n",
        "2. Error Handling: Use try-except blocks to handle invalid input (e.g., non-numeric values or\n",
        "empty lists).\n",
        "3. User Input: Prompt the user to select the operation and input the list of numbers.\n",
        "4. Docstrings: Include a docstring in each function to describe its purpose, parameters, and\n",
        "return value."
      ],
      "metadata": {
        "id": "HqZO_fzZ5o76"
      }
    },
    {
      "cell_type": "code",
      "source": [
        "def calculate_sum(numbers):\n",
        "    return sum(numbers)\n",
        "\n",
        "\n",
        "def calculate_average(numbers):\n",
        "    return sum(numbers) / len(numbers)\n",
        "\n",
        "\n",
        "def find_maximum(numbers):\n",
        "    return max(numbers)\n",
        "\n",
        "\n",
        "def find_minimum(numbers):\n",
        "    return min(numbers)\n",
        "\n",
        "\n",
        "def main():\n",
        "    \"\"\"\n",
        "    Main function to handle user input and perform mathematical operations.\n",
        "    \"\"\"\n",
        "    print(\"Welcome to the Math Operations Program!\")\n",
        "    print(\"Please select an operation:\")\n",
        "    print(\"1. Sum\")\n",
        "    print(\"2. Average\")\n",
        "    print(\"3. Maximum\")\n",
        "    print(\"4. Minimum\")\n",
        "\n",
        "    try:\n",
        "        # Prompt user to select an operation\n",
        "        operation = int(input(\"Enter the number corresponding to your choice: \"))\n",
        "\n",
        "        if operation not in [1, 2, 3, 4]:\n",
        "            print(\"Invalid choice. Please select a number between 1 and 4.\")\n",
        "            return\n",
        "\n",
        "        # Prompt user to input a list of numbers\n",
        "        user_input = input(\"Enter a list of numbers separated by commas: \").strip()\n",
        "\n",
        "        # Check if the user input is empty\n",
        "        if not user_input:\n",
        "            raise ValueError(\"Empty input. Please enter at least one number.\")\n",
        "\n",
        "        # Check if the input contains commas and at least two numbers\n",
        "        if \",\" not in user_input or len(user_input.split(\",\")) < 2:\n",
        "            raise ValueError(\"Numbers should be separated by commas, and you must enter at least two numbers.\")\n",
        "\n",
        "        # Convert input string to a list of floats\n",
        "        numbers = [float(num) for num in user_input.split(\",\")]\n",
        "\n",
        "        if operation == 1:\n",
        "            # Calculate sum\n",
        "            result = calculate_sum(numbers)\n",
        "            print(f\"The sum of the numbers is: {result:.2f}\")\n",
        "\n",
        "        elif operation == 2:\n",
        "            # Calculate average\n",
        "            result = calculate_average(numbers)\n",
        "            print(f\"The average of the numbers is: {result:.2f}\")\n",
        "\n",
        "        elif operation == 3:\n",
        "            # Find maximum\n",
        "            result = find_maximum(numbers)\n",
        "            print(f\"The maximum number is: {result:.2f}\")\n",
        "\n",
        "        elif operation == 4:\n",
        "            # Find minimum\n",
        "            result = find_minimum(numbers)\n",
        "            print(f\"The minimum number is: {result:.2f}\")\n",
        "\n",
        "    except ValueError as e:\n",
        "        # Handle invalid input (non-numeric values or empty lists)\n",
        "        print(f\"Error: {e}. Please enter valid numbers.\")\n",
        "\n",
        "\n",
        "if __name__ == \"__main__\":\n",
        "    main()"
      ],
      "metadata": {
        "colab": {
          "base_uri": "https://localhost:8080/"
        },
        "id": "fK6R2EMk6oC9",
        "outputId": "bdb2ddda-53ab-4972-b089-607b4f3b8de4"
      },
      "execution_count": null,
      "outputs": [
        {
          "output_type": "stream",
          "name": "stdout",
          "text": [
            "Welcome to the Math Operations Program!\n",
            "Please select an operation:\n",
            "1. Sum\n",
            "2. Average\n",
            "3. Maximum\n",
            "4. Minimum\n",
            "Enter the number corresponding to your choice: 3\n",
            "Enter a list of numbers separated by commas: 1,2,3,6,4,8,9\n",
            "The maximum number is: 9.00\n"
          ]
        }
      ]
    },
    {
      "cell_type": "markdown",
      "source": [
        "\n",
        "# **4.2 Exercise on List Manipulation:**\n",
        "1. Extract Every Other Element:\n",
        "Write a Python function that extracts every other element from a list, starting from the first element.\n",
        "• Requirements:\n",
        "– Define a function extract every other(lst) that takes a list lst as input and returns a\n",
        "new list containing every other element from the original list.\n",
        "– Example: For the input [1, 2, 3, 4, 5, 6], the output should be [1, 3, 5]."
      ],
      "metadata": {
        "id": "BUDj_OMx77tx"
      }
    },
    {
      "cell_type": "code",
      "source": [
        "# 1. Extract Every Other Element\n",
        "lst = [1, 2, 3, 4, 5, 6]\n",
        "result = lst[::2]  # Extract every other element starting from the first\n",
        "print(result)"
      ],
      "metadata": {
        "colab": {
          "base_uri": "https://localhost:8080/"
        },
        "id": "qpllLNeS6sH8",
        "outputId": "79db45ac-de26-43ed-a6e5-ce98bab988af"
      },
      "execution_count": null,
      "outputs": [
        {
          "output_type": "stream",
          "name": "stdout",
          "text": [
            "[1, 3, 5]\n"
          ]
        }
      ]
    },
    {
      "cell_type": "markdown",
      "source": [
        "# 2. Slice a Sublist:\n",
        "Write a Python function that returns a sublist from a given list, starting from a specified index and\n",
        "ending at another specified index.\n",
        "• Requirements:\n",
        "– Define a function get sublist(lst, start, end) that takes a list lst, a starting index\n",
        "start, and an ending index end as input and returns the sublist from start to end (inclusive).\n",
        "– Example: For the input [1, 2, 3, 4, 5, 6] with start=2 and end=4, the output should\n",
        "be [3, 4, 5]."
      ],
      "metadata": {
        "id": "FA96ax8E8K7-"
      }
    },
    {
      "cell_type": "code",
      "source": [
        "lst = [1, 2, 3, 4, 5, 6]\n",
        "start = 2\n",
        "end = 4\n",
        "result = lst[start:end+1]  # Slice from start to end (inclusive)\n",
        "print(result)"
      ],
      "metadata": {
        "colab": {
          "base_uri": "https://localhost:8080/"
        },
        "id": "86_CKAu78Ig1",
        "outputId": "8e4d0bd9-1ba6-4c0f-9ad0-4863334374f9"
      },
      "execution_count": null,
      "outputs": [
        {
          "output_type": "stream",
          "name": "stdout",
          "text": [
            "[3, 4, 5]\n"
          ]
        }
      ]
    },
    {
      "cell_type": "markdown",
      "source": [
        "# 3. Reverse a List Using Slicing:\n",
        "Write a Python function that reverses a list using slicing.\n",
        "• Requirements:\n",
        "– Define a function reverse list(lst) that takes a list lst and returns a reversed list using\n",
        "slicing.\n",
        "– Example: For the input [1, 2, 3, 4, 5], the output should be [5, 4, 3, 2, 1]."
      ],
      "metadata": {
        "id": "8Emlkntp8UcR"
      }
    },
    {
      "cell_type": "code",
      "source": [
        "lst = [1, 2, 3, 4, 5]\n",
        "result = lst[::-1]  # Reverse the list using slicing\n",
        "print(result)"
      ],
      "metadata": {
        "colab": {
          "base_uri": "https://localhost:8080/"
        },
        "id": "YflWGgg48PyT",
        "outputId": "a5da67d6-98a2-4f7f-c9ff-3ee6f6b5b75d"
      },
      "execution_count": null,
      "outputs": [
        {
          "output_type": "stream",
          "name": "stdout",
          "text": [
            "[5, 4, 3, 2, 1]\n"
          ]
        }
      ]
    },
    {
      "cell_type": "markdown",
      "source": [
        "# 4. Remove the First and Last Elements:\n",
        "Write a Python function that removes the first and last elements of a list and returns the resulting\n",
        "sublist.\n",
        "• Requirements:\n",
        "– Define a function remove first last(lst) that takes a list lst and returns a sublist without\n",
        "the first and last elements using slicing.\n",
        "– Example: For the input [1, 2, 3, 4, 5], the output should be [2, 3, 4]."
      ],
      "metadata": {
        "id": "_7_02G7G8Z8Y"
      }
    },
    {
      "cell_type": "code",
      "source": [
        "lst = [1, 2, 3, 4, 5]\n",
        "result = lst[1:-1]  # Remove the first and last elements\n",
        "print(result)\n"
      ],
      "metadata": {
        "colab": {
          "base_uri": "https://localhost:8080/"
        },
        "id": "YHnemwcK8Xnb",
        "outputId": "be43d6b8-83c6-4243-ca2f-d1c6c2489a5b"
      },
      "execution_count": null,
      "outputs": [
        {
          "output_type": "stream",
          "name": "stdout",
          "text": [
            "[2, 3, 4]\n"
          ]
        }
      ]
    },
    {
      "cell_type": "markdown",
      "source": [
        "# 5. Get the First n Elements:\n",
        "Write a Python function that extracts the first n elements from a list.\n",
        "• Requirements:\n",
        "– Define a function get first n(lst, n) that takes a list lst and an integer n as input and\n",
        "returns the first n elements of the list using slicing.\n",
        "– Example: For the input [1, 2, 3, 4, 5] with n=3, the output should be [1, 2, 3]."
      ],
      "metadata": {
        "id": "ueeSsUbv8iEJ"
      }
    },
    {
      "cell_type": "code",
      "source": [
        "lst = [1, 2, 3, 4, 5]\n",
        "n = 3\n",
        "result = lst[:n]  # Get the first n elements\n",
        "print(result)"
      ],
      "metadata": {
        "colab": {
          "base_uri": "https://localhost:8080/"
        },
        "id": "vsUDv7tJ8d7W",
        "outputId": "957a3dba-9771-4fc8-f7dc-83ae89d7c5f8"
      },
      "execution_count": null,
      "outputs": [
        {
          "output_type": "stream",
          "name": "stdout",
          "text": [
            "[1, 2, 3]\n"
          ]
        }
      ]
    },
    {
      "cell_type": "markdown",
      "source": [
        "# 6. Extract Elements from the End:\n",
        "Write a Python function that extracts the last n elements of a list using slicing.\n",
        "• Requirements:\n",
        "– Define a function get last n(lst, n) that takes a list lst and an integer n as input and\n",
        "returns the last n elements of the list.\n",
        "– Example: For the input [1, 2, 3, 4, 5] with n=2, the output should be [4, 5]."
      ],
      "metadata": {
        "id": "_UBeqfb68os4"
      }
    },
    {
      "cell_type": "code",
      "source": [
        "lst = [1, 2, 3, 4, 5]\n",
        "n = 2\n",
        "result = lst[-n:]  # Get the last n elements\n",
        "print(result)"
      ],
      "metadata": {
        "colab": {
          "base_uri": "https://localhost:8080/"
        },
        "id": "0ArcLwcB8lkP",
        "outputId": "9bd1f445-2ace-4d36-eb9b-e0c79d8cb244"
      },
      "execution_count": null,
      "outputs": [
        {
          "output_type": "stream",
          "name": "stdout",
          "text": [
            "[4, 5]\n"
          ]
        }
      ]
    },
    {
      "cell_type": "markdown",
      "source": [
        "# 7. Extract Elements in Reverse Order:\n",
        "Write a Python function that extracts a list of elements in reverse order starting from the second-to-last\n",
        "element and skipping one element in between.\n",
        "• Requirements:\n",
        "– Define a function reverse skip(lst) that takes a list lst and returns a new list containing\n",
        "every second element starting from the second-to-last, moving backward.\n",
        "– Example: For the input [1, 2, 3, 4, 5, 6], the output should be [5, 3, 1]."
      ],
      "metadata": {
        "id": "MJDBrWSi8vqA"
      }
    },
    {
      "cell_type": "code",
      "source": [
        "lst = [1, 2, 3, 4, 5, 6]\n",
        "result = lst[-2::-2]  # Extract every second element starting from the second-to-last\n",
        "print(result)\n"
      ],
      "metadata": {
        "colab": {
          "base_uri": "https://localhost:8080/"
        },
        "id": "ED-HycYM8s6Q",
        "outputId": "056899a3-87c9-4f68-ad06-c782ea0a672f"
      },
      "execution_count": null,
      "outputs": [
        {
          "output_type": "stream",
          "name": "stdout",
          "text": [
            "[5, 3, 1]\n"
          ]
        }
      ]
    },
    {
      "cell_type": "markdown",
      "source": [
        "# 4.3 Exercise on Nested List:\n",
        "1. Flatten a Nested List:\n",
        "Write a Python function that takes a nested list and flattens it into a single list, where all the elements\n",
        "are in a single dimension.\n",
        "• Requirements:\n",
        "– Define a function flatten(lst) that takes a nested list lst and returns a flattened version\n",
        "of the list.\n",
        "– Example: For the input [[1, 2], [3, 4], [5]], the output should be [1, 2, 3, 4, 5]."
      ],
      "metadata": {
        "id": "FlRprBA382vy"
      }
    },
    {
      "cell_type": "code",
      "source": [
        "nested_lst = [[1, 2], [3, 4], [5]]\n",
        "flat_list = [item for sublist in nested_lst for item in sublist]  # Flatten the list\n",
        "print(flat_list)"
      ],
      "metadata": {
        "colab": {
          "base_uri": "https://localhost:8080/"
        },
        "id": "4jXaoauS8vLQ",
        "outputId": "b06a266b-671c-4b29-9e7c-d73e9de9474c"
      },
      "execution_count": null,
      "outputs": [
        {
          "output_type": "stream",
          "name": "stdout",
          "text": [
            "[1, 2, 3, 4, 5]\n"
          ]
        }
      ]
    },
    {
      "cell_type": "markdown",
      "source": [
        "# 2. Accessing Nested List Elements:\n",
        "Write a Python function that extracts a specific element from a nested list given its indices.\n",
        "• Requirements:\n",
        "– Define a function access nested element(lst, indices) that takes a nested list lst and\n",
        "a list of indices indices, and returns the element at that position.\n",
        "– Example: For the input lst = [[1, 2, 3], [4, 5, 6], [7, 8, 9]] with indices = [1,\n",
        "2], the output should be 6."
      ],
      "metadata": {
        "id": "mygWGeSH9Gjv"
      }
    },
    {
      "cell_type": "code",
      "source": [
        "nested_lst = [[1, 2, 3], [4, 5, 6], [7, 8, 9]]\n",
        "indices = [1, 2]\n",
        "result = nested_lst[indices[0]][indices[1]]  # Access the element at the given indices\n",
        "print(result)"
      ],
      "metadata": {
        "colab": {
          "base_uri": "https://localhost:8080/"
        },
        "id": "LXPPtg6Y88aO",
        "outputId": "9a28abf7-2e8d-4af5-af0f-d39cdb5d726c"
      },
      "execution_count": null,
      "outputs": [
        {
          "output_type": "stream",
          "name": "stdout",
          "text": [
            "6\n"
          ]
        }
      ]
    },
    {
      "cell_type": "markdown",
      "source": [
        "# 3. Sum of All Elements in a Nested List:\n",
        "Write a Python function that calculates the sum of all the numbers in a nested list (regardless of depth).\n",
        "• Requirements:\n",
        "– Define a function sum nested(lst) that takes a nested list lst and returns the sum of all\n",
        "the elements.\n",
        "– Example: For the input [[1, 2], [3, [4, 5]], 6], the output should be 21."
      ],
      "metadata": {
        "id": "OfKjdkBx9XyE"
      }
    },
    {
      "cell_type": "code",
      "source": [
        "nested_lst = [[1, 2], [3, [4, 5]], 6]\n",
        "\n",
        "# Recursive function to flatten the list\n",
        "def flatten_list(nested_lst):\n",
        "    flat_list = []\n",
        "    for item in nested_lst:\n",
        "        if isinstance(item, list):\n",
        "            flat_list.extend(flatten_list(item))  # Recursively flatten nested lists\n",
        "        else:\n",
        "            flat_list.append(item)  # Add non-list items directly\n",
        "    return flat_list\n",
        "\n",
        "# Flatten the list\n",
        "flat_list = flatten_list(nested_lst)\n",
        "\n",
        "# Sum all elements\n",
        "total = sum(flat_list)\n",
        "print(total)  # Output: 21"
      ],
      "metadata": {
        "colab": {
          "base_uri": "https://localhost:8080/"
        },
        "id": "oLY2Y1K19Zk3",
        "outputId": "0bdf71dd-3cbb-45bf-f652-036bfc931087"
      },
      "execution_count": null,
      "outputs": [
        {
          "output_type": "stream",
          "name": "stdout",
          "text": [
            "21\n"
          ]
        }
      ]
    },
    {
      "cell_type": "markdown",
      "source": [
        "# 4. Remove Specific Element from a Nested List:\n",
        "Write a Python function that removes all occurrences of a specific element from a nested list.\n",
        "• Requirements:\n",
        "– Define a function remove element(lst, elem) that removes elem from lst and returns the\n",
        "modified list.\n",
        "– Example: For the input lst = [[1, 2], [3, 2], [4, 5]] and elem = 2, the output should\n",
        "be [[1], [3], [4, 5]]."
      ],
      "metadata": {
        "id": "PA_StnVD96Hu"
      }
    },
    {
      "cell_type": "code",
      "source": [
        "nested_lst = [[1, 2], [3, 2], [4, 5]]\n",
        "elem = 2\n",
        "# Remove all occurrences of `elem`\n",
        "result = [[item for item in sublist if item != elem] for sublist in nested_lst]\n",
        "print(result)\n"
      ],
      "metadata": {
        "colab": {
          "base_uri": "https://localhost:8080/"
        },
        "id": "UItXMuNC9bta",
        "outputId": "a9fbdc11-4230-4f25-f7d4-ffc197f4939d"
      },
      "execution_count": null,
      "outputs": [
        {
          "output_type": "stream",
          "name": "stdout",
          "text": [
            "[[1], [3], [4, 5]]\n"
          ]
        }
      ]
    },
    {
      "cell_type": "markdown",
      "source": [
        "# 5. Find the Maximum Element in a Nested List:\n",
        "Write a Python function that finds the maximum element in a nested list (regardless of depth).\n",
        "• Requirements:\n",
        "– Define a function find max(lst) that takes a nested list lst and returns the maximum\n",
        "element.\n",
        "– Example: For the input [[1, 2], [3, [4, 5]], 6], the output should be 6."
      ],
      "metadata": {
        "id": "WLhqdn_r-E92"
      }
    },
    {
      "cell_type": "code",
      "source": [
        "nested_lst = [[1, 2], [3, [4, 5]], 6]\n",
        "\n",
        "# Recursive function to flatten the list\n",
        "def flatten_list(nested_lst):\n",
        "    flat_list = []\n",
        "    for item in nested_lst:\n",
        "        if isinstance(item, list):\n",
        "            flat_list.extend(flatten_list(item))  # Recursively flatten nested lists\n",
        "        else:\n",
        "            flat_list.append(item)  # Add non-list items directly\n",
        "    return flat_list\n",
        "\n",
        "# Flatten the list\n",
        "flat_list = flatten_list(nested_lst)\n",
        "\n",
        "# Find the maximum element\n",
        "max_val = max(flat_list)\n",
        "print(max_val)  # Output: 6"
      ],
      "metadata": {
        "colab": {
          "base_uri": "https://localhost:8080/"
        },
        "id": "3fC5dhL_-B2B",
        "outputId": "283e67d9-cac5-424e-ccc8-cd32ad943144"
      },
      "execution_count": null,
      "outputs": [
        {
          "output_type": "stream",
          "name": "stdout",
          "text": [
            "6\n"
          ]
        }
      ]
    },
    {
      "cell_type": "markdown",
      "source": [
        "# 6. Count Occurrences of an Element in a Nested List:\n",
        "Write a Python function that counts how many times a specific element appears in a nested list.\n",
        "• Requirements:\n",
        "– Define a function count occurrences(lst, elem) that counts the occurrences of elem in\n",
        "the nested list lst.\n",
        "– Example: For the input lst = [[1, 2], [2, 3], [2, 4]] and elem = 2, the output should\n",
        "be 3."
      ],
      "metadata": {
        "id": "YeIK_iu8-e4w"
      }
    },
    {
      "cell_type": "code",
      "source": [
        "nested_lst = [[1, 2], [2, 3], [2, 4]]\n",
        "elem = 2\n",
        "# Flatten the list first\n",
        "flat_list = [item for sublist in nested_lst for item in sublist]\n",
        "count = flat_list.count(elem)  # Count occurrences of `elem`\n",
        "print(count)"
      ],
      "metadata": {
        "colab": {
          "base_uri": "https://localhost:8080/"
        },
        "id": "VtFT3sn0-Ik9",
        "outputId": "4cdb50bf-00b3-4997-86a0-7a5d380d3908"
      },
      "execution_count": null,
      "outputs": [
        {
          "output_type": "stream",
          "name": "stdout",
          "text": [
            "3\n"
          ]
        }
      ]
    },
    {
      "cell_type": "markdown",
      "source": [
        "# 7. Flatten a List of Lists of Lists:\n",
        "Write a Python function that flattens a list of lists of lists into a single list, regardless of the depth.\n",
        "• Requirements:\n",
        "– Define a function deep flatten(lst) that takes a deeply nested list lst and returns a single\n",
        "flattened list.\n",
        "– Example: For the input [[[1, 2], [3, 4]], [[5, 6], [7, 8]]], the output should be\n",
        "[1, 2, 3, 4, 5, 6, 7, 8]."
      ],
      "metadata": {
        "id": "w5w-EeTE-nON"
      }
    },
    {
      "cell_type": "code",
      "source": [
        "deep_nested_lst = [[[1, 2], [3, 4]], [[5, 6], [7, 8]]]\n",
        "# Flatten the deeply nested list\n",
        "flat_list = [item for sublist in deep_nested_lst for subsublist in sublist for item in subsublist]\n",
        "print(flat_list)"
      ],
      "metadata": {
        "colab": {
          "base_uri": "https://localhost:8080/"
        },
        "id": "wPdF6MKg-jFz",
        "outputId": "49cda83e-28cf-4100-9cbd-42c46236d8b9"
      },
      "execution_count": null,
      "outputs": [
        {
          "output_type": "stream",
          "name": "stdout",
          "text": [
            "[1, 2, 3, 4, 5, 6, 7, 8]\n"
          ]
        }
      ]
    },
    {
      "cell_type": "markdown",
      "source": [
        "# 8. Nested List Average:\n",
        "Write a Python function that calculates the average of all elements in a nested list.\n",
        "• Requirements:\n",
        "– Define a function average nested(lst) that takes a nested list lst and returns the average\n",
        "of all the elements.\n",
        "– Example: For the input [[1, 2], [3, 4], [5, 6]], the output should be 3.5."
      ],
      "metadata": {
        "id": "sVjoCGMA-slz"
      }
    },
    {
      "cell_type": "code",
      "source": [
        "nested_lst = [[1, 2], [3, 4], [5, 6]]\n",
        "# Flatten the list first\n",
        "flat_list = [item for sublist in nested_lst for item in sublist]\n",
        "average = sum(flat_list) / len(flat_list)  # Calculate the average\n",
        "print(average)"
      ],
      "metadata": {
        "colab": {
          "base_uri": "https://localhost:8080/"
        },
        "id": "3t-loWXe-qfN",
        "outputId": "efd99970-ed37-4f2c-8388-0f85def47814"
      },
      "execution_count": null,
      "outputs": [
        {
          "output_type": "stream",
          "name": "stdout",
          "text": [
            "3.5\n"
          ]
        }
      ]
    },
    {
      "cell_type": "markdown",
      "source": [
        "# 10 To - Do - NumPy\n",
        "Please complete all the problems listed below:\n",
        "10.1 Basic Vector and Matrix Operation with Numpy.\n",
        "Problem - 1: Array Creation:\n",
        "Complete the following Tasks:\n",
        "1. Initialize an empty array with size 2X2.\n",
        "2. Initialize an all one array with size 4X2.\n",
        "3. Return a new array of given shape and type, filled with fill value.{Hint: np.full}\n",
        "4. Return a new array of zeros with same shape and type as a given array.{Hint: np.zeros like}\n",
        "5. Return a new array of ones with same shape and type as a given array.{Hint: np.ones like}\n",
        "6. For an existing list new_list = [1,2,3,4] convert to an numpy array.{Hint: np.array()}"
      ],
      "metadata": {
        "id": "FtwNfLYwFgL9"
      }
    },
    {
      "cell_type": "code",
      "source": [
        "import numpy as np\n",
        "\n",
        "# 1. Initialize an empty array with size 2x2\n",
        "empty_array = np.empty((2, 2))\n",
        "print(\"1. Empty 2x2 array:\\n\", empty_array)\n",
        "\n",
        "# 2. Initialize an all ones array with size 4x2\n",
        "ones_array = np.ones((4, 2))\n",
        "print(\"\\n2. All ones 4x2 array:\\n\", ones_array)\n",
        "\n",
        "# 3. Return a new array of given shape and type, filled with fill value\n",
        "fill_value_array = np.full((3, 3), 5)  # Shape: 3x3, Fill value: 5\n",
        "print(\"\\n3. Array filled with value 5:\\n\", fill_value_array)\n",
        "\n",
        "# 4. Return a new array of zeros with same shape and type as a given array\n",
        "zeros_like_array = np.zeros_like(fill_value_array)\n",
        "print(\"\\n4. Zeros array with same shape as fill_value_array:\\n\", zeros_like_array)\n",
        "\n",
        "# 5. Return a new array of ones with same shape and type as a given array\n",
        "ones_like_array = np.ones_like(fill_value_array)\n",
        "print(\"\\n5. Ones array with same shape as fill_value_array:\\n\", ones_like_array)\n",
        "\n",
        "# 6. Convert a list to a NumPy array\n",
        "new_list = [1, 2, 3, 4]\n",
        "numpy_array = np.array(new_list)\n",
        "print(\"\\n6. Converted NumPy array from list:\\n\", numpy_array)"
      ],
      "metadata": {
        "colab": {
          "base_uri": "https://localhost:8080/"
        },
        "id": "sfvmGMTp-vff",
        "outputId": "24400c4e-854b-44d1-f063-ade660cd7b83"
      },
      "execution_count": null,
      "outputs": [
        {
          "output_type": "stream",
          "name": "stdout",
          "text": [
            "1. Empty 2x2 array:\n",
            " [[2.42101010e-316 0.00000000e+000]\n",
            " [3.69320059e-306 1.75752732e+159]]\n",
            "\n",
            "2. All ones 4x2 array:\n",
            " [[1. 1.]\n",
            " [1. 1.]\n",
            " [1. 1.]\n",
            " [1. 1.]]\n",
            "\n",
            "3. Array filled with value 5:\n",
            " [[5 5 5]\n",
            " [5 5 5]\n",
            " [5 5 5]]\n",
            "\n",
            "4. Zeros array with same shape as fill_value_array:\n",
            " [[0 0 0]\n",
            " [0 0 0]\n",
            " [0 0 0]]\n",
            "\n",
            "5. Ones array with same shape as fill_value_array:\n",
            " [[1 1 1]\n",
            " [1 1 1]\n",
            " [1 1 1]]\n",
            "\n",
            "6. Converted NumPy array from list:\n",
            " [1 2 3 4]\n"
          ]
        }
      ]
    },
    {
      "cell_type": "markdown",
      "source": [
        "# Problem - 2: Array Manipulation: Numerical Ranges and Array indexing:\n",
        "Complete the following tasks:\n",
        "1. Create an array with values ranging from 10 to 49. {Hint:np.arrange()}.\n",
        "2. Create a 3X3 matrix with values ranging from 0 to 8.\n",
        "{Hint:look for np.reshape()}\n",
        "3. Create a 3X3 identity matrix.{Hint:np.eye()}\n",
        "4. Create a random array of size 30 and find the mean of the array.\n",
        "{Hint:check for np.random.random() and array.mean() function}\n",
        "5. Create a 10X10 array with random values and find the minimum and maximum values.\n",
        "6. Create a zero array of size 10 and replace 5th element with 1.\n",
        "7. Reverse an array arr = [1,2,0,0,4,0].\n",
        "8. Create a 2d array with 1 on border and 0 inside.\n",
        "9. Create a 8X8 matrix and fill it with a checkerboard pattern."
      ],
      "metadata": {
        "id": "WxDConX_Fs9L"
      }
    },
    {
      "cell_type": "code",
      "source": [
        "# 1. Create an array with values ranging from 10 to 49\n",
        "range_array = np.arange(10, 50)\n",
        "print(\"\\n1. Array with values from 10 to 49:\\n\", range_array)\n",
        "\n",
        "# 2. Create a 3x3 matrix with values ranging from 0 to 8\n",
        "reshaped_array = np.arange(9).reshape(3, 3)\n",
        "print(\"\\n2. 3x3 matrix with values 0 to 8:\\n\", reshaped_array)\n",
        "\n",
        "# 3. Create a 3x3 identity matrix\n",
        "identity_matrix = np.eye(3)\n",
        "print(\"\\n3. 3x3 identity matrix:\\n\", identity_matrix)\n",
        "\n",
        "# 4. Create a random array of size 30 and find the mean\n",
        "random_array = np.random.random(30)\n",
        "mean_value = random_array.mean()\n",
        "print(\"\\n4. Random array of size 30:\\n\", random_array)\n",
        "print(\"Mean of the array:\", mean_value)\n",
        "\n",
        "# 5. Create a 10x10 array with random values and find min and max\n",
        "random_10x10 = np.random.random((10, 10))\n",
        "min_value = random_10x10.min()\n",
        "max_value = random_10x10.max()\n",
        "print(\"\\n5. 10x10 random array:\\n\", random_10x10)\n",
        "print(\"Min value:\", min_value)\n",
        "print(\"Max value:\", max_value)\n",
        "\n",
        "# 6. Create a zero array of size 10 and replace the 5th element with 1\n",
        "zero_array = np.zeros(10)\n",
        "zero_array[4] = 1  # Indexing starts from 0\n",
        "print(\"\\n6. Zero array with 5th element replaced by 1:\\n\", zero_array)\n",
        "\n",
        "# 7. Reverse an array\n",
        "arr = np.array([1, 2, 0, 0, 4, 0])\n",
        "reversed_array = arr[::-1]\n",
        "print(\"\\n7. Reversed array:\\n\", reversed_array)\n",
        "\n",
        "# 8. Create a 2D array with 1 on the border and 0 inside\n",
        "border_array = np.ones((5, 5))\n",
        "border_array[1:-1, 1:-1] = 0\n",
        "print(\"\\n8. 2D array with 1 on border and 0 inside:\\n\", border_array)\n",
        "\n",
        "# 9. Create an 8x8 checkerboard pattern\n",
        "checkerboard = np.zeros((8, 8), dtype=int)\n",
        "checkerboard[1::2, ::2] = 1\n",
        "checkerboard[::2, 1::2] = 1\n",
        "print(\"\\n9. 8x8 checkerboard pattern:\\n\", checkerboard)"
      ],
      "metadata": {
        "colab": {
          "base_uri": "https://localhost:8080/"
        },
        "id": "eEXgTSjyF2Ea",
        "outputId": "2f21c3d9-7754-47ed-a463-3e1b7a355227"
      },
      "execution_count": null,
      "outputs": [
        {
          "output_type": "stream",
          "name": "stdout",
          "text": [
            "\n",
            "1. Array with values from 10 to 49:\n",
            " [10 11 12 13 14 15 16 17 18 19 20 21 22 23 24 25 26 27 28 29 30 31 32 33\n",
            " 34 35 36 37 38 39 40 41 42 43 44 45 46 47 48 49]\n",
            "\n",
            "2. 3x3 matrix with values 0 to 8:\n",
            " [[0 1 2]\n",
            " [3 4 5]\n",
            " [6 7 8]]\n",
            "\n",
            "3. 3x3 identity matrix:\n",
            " [[1. 0. 0.]\n",
            " [0. 1. 0.]\n",
            " [0. 0. 1.]]\n",
            "\n",
            "4. Random array of size 30:\n",
            " [0.87889441 0.06876494 0.42403324 0.72650994 0.96929404 0.67112107\n",
            " 0.66681448 0.55406199 0.12519662 0.12805458 0.06320426 0.73046113\n",
            " 0.97153743 0.05540855 0.11216611 0.62748847 0.58770656 0.27826669\n",
            " 0.19900821 0.0282189  0.27979825 0.2795384  0.09187294 0.546972\n",
            " 0.23021818 0.78431854 0.52563744 0.79772161 0.32154903 0.8565367 ]\n",
            "Mean of the array: 0.4526791567099355\n",
            "\n",
            "5. 10x10 random array:\n",
            " [[0.42052174 0.85216932 0.81293718 0.00426393 0.28694596 0.54920465\n",
            "  0.63972501 0.37066244 0.77310425 0.98804461]\n",
            " [0.1192123  0.20159735 0.74043829 0.72060664 0.94280746 0.4475904\n",
            "  0.55213467 0.45504344 0.86802022 0.13020684]\n",
            " [0.74793423 0.9282786  0.50718279 0.84337248 0.621772   0.34849139\n",
            "  0.9675544  0.0552119  0.65944528 0.47964753]\n",
            " [0.64217631 0.12371412 0.62974773 0.21573625 0.91859034 0.08316814\n",
            "  0.379666   0.42677151 0.74975785 0.12438017]\n",
            " [0.19195344 0.3204963  0.28897748 0.16759578 0.18910034 0.45520456\n",
            "  0.38077705 0.91764558 0.98290505 0.18737213]\n",
            " [0.93395214 0.61834343 0.70044558 0.48035065 0.70076111 0.9240535\n",
            "  0.06138849 0.41206521 0.54094848 0.64271261]\n",
            " [0.261362   0.34126455 0.96098785 0.79048778 0.50836478 0.93767759\n",
            "  0.3841118  0.78111366 0.74728159 0.38992757]\n",
            " [0.14661955 0.80823698 0.18242966 0.09788395 0.64422299 0.27406078\n",
            "  0.91668733 0.79088408 0.94237653 0.59302189]\n",
            " [0.06454826 0.81962055 0.61756038 0.80791993 0.68999563 0.35929572\n",
            "  0.48885207 0.73992181 0.80669889 0.90768691]\n",
            " [0.79750552 0.71112744 0.01115211 0.70146782 0.25292305 0.08271547\n",
            "  0.76817398 0.19418977 0.06327768 0.0090702 ]]\n",
            "Min value: 0.004263928559932406\n",
            "Max value: 0.9880446115569684\n",
            "\n",
            "6. Zero array with 5th element replaced by 1:\n",
            " [0. 0. 0. 0. 1. 0. 0. 0. 0. 0.]\n",
            "\n",
            "7. Reversed array:\n",
            " [0 4 0 0 2 1]\n",
            "\n",
            "8. 2D array with 1 on border and 0 inside:\n",
            " [[1. 1. 1. 1. 1.]\n",
            " [1. 0. 0. 0. 1.]\n",
            " [1. 0. 0. 0. 1.]\n",
            " [1. 0. 0. 0. 1.]\n",
            " [1. 1. 1. 1. 1.]]\n",
            "\n",
            "9. 8x8 checkerboard pattern:\n",
            " [[0 1 0 1 0 1 0 1]\n",
            " [1 0 1 0 1 0 1 0]\n",
            " [0 1 0 1 0 1 0 1]\n",
            " [1 0 1 0 1 0 1 0]\n",
            " [0 1 0 1 0 1 0 1]\n",
            " [1 0 1 0 1 0 1 0]\n",
            " [0 1 0 1 0 1 0 1]\n",
            " [1 0 1 0 1 0 1 0]]\n"
          ]
        }
      ]
    },
    {
      "cell_type": "markdown",
      "source": [
        "# Problem - 3: Array Operations:\n",
        "For the following arrays:\n",
        "x = np.array([[1,2],[3,5]]) and y = np.array([[5,6],[7,8]]);\n",
        "v = np.array([9,10]) and w = np.array([11,12]);\n",
        "Complete all the task using numpy:\n",
        "1. Add the two array.\n",
        "2. Subtract the two array.\n",
        "3. Multiply the array with any integers of your choice.\n",
        "4. Find the square of each element of the array.\n",
        "5. Find the dot product between: v(and)w ; x(and)v ; x(and)y.\n",
        "6. Concatenate x(and)y along row and Concatenate v(and)w along column.\n",
        "{Hint:try np.concatenate() or np.vstack() functions.\n",
        "7. Concatenate x(and)v; if you get an error, observe and explain why did you get the error?\n",
        "Problem - 4: Matrix Operations:\n",
        "• For the following arrays:\n",
        "A = np.array([[3,4],[7,8]]) and B = np.array([[5,3],[2,1]]);\n",
        "Prove following with Numpy:\n",
        "1. Prove A.A−1 = I.\n",
        "2. Prove AB ̸= BA.\n",
        "3. Prove (AB)\n",
        "\n",
        "T = BTAT\n",
        ".\n",
        "\n",
        "• Solve the following system of Linear equation using Inverse Methods.\n",
        "\n",
        "2x − 3y + z = −1\n",
        "x − y + 2z = −3\n",
        "3x + y − z = 9\n",
        "\n",
        "{Hint: First use Numpy array to represent the equation in Matrix form. Then Solve for: AX = B}\n",
        "\n",
        "• Now: solve the above equation using np.linalg.inv function.{Explore more about ”linalg” func-\n",
        "tion of Numpy}"
      ],
      "metadata": {
        "id": "sxRcwbfmF9zH"
      }
    },
    {
      "cell_type": "code",
      "source": [
        "# Define arrays\n",
        "x = np.array([[1, 2], [3, 5]])\n",
        "y = np.array([[5, 6], [7, 8]])\n",
        "v = np.array([9, 10])\n",
        "w = np.array([11, 12])\n",
        "\n",
        "# 1. Add the two arrays\n",
        "add_result = x + y\n",
        "print(\"\\n1. Addition of x and y:\\n\", add_result)\n",
        "\n",
        "# 2. Subtract the two arrays\n",
        "subtract_result = x - y\n",
        "print(\"\\n2. Subtraction of x and y:\\n\", subtract_result)\n",
        "\n",
        "# 3. Multiply the array with an integer\n",
        "multiply_result = x * 2\n",
        "print(\"\\n3. Multiplication of x by 2:\\n\", multiply_result)\n",
        "\n",
        "# 4. Find the square of each element\n",
        "square_result = np.square(x)\n",
        "print(\"\\n4. Square of each element in x:\\n\", square_result)\n",
        "\n",
        "# 5. Find the dot product\n",
        "dot_vw = np.dot(v, w)\n",
        "dot_xv = np.dot(x, v)\n",
        "dot_xy = np.dot(x, y)\n",
        "print(\"\\n5. Dot products:\")\n",
        "print(\"v and w:\", dot_vw)\n",
        "print(\"x and v:\", dot_xv)\n",
        "print(\"x and y:\\n\", dot_xy)\n",
        "\n",
        "# 6. Concatenate x and y along rows, and v and w along columns\n",
        "concat_rows = np.vstack((x, y))\n",
        "concat_cols = np.hstack((v[:, np.newaxis], w[:, np.newaxis]))\n",
        "print(\"\\n6. Concatenation:\")\n",
        "print(\"x and y along rows:\\n\", concat_rows)\n",
        "print(\"v and w along columns:\\n\", concat_cols)\n",
        "\n",
        "# 7. Concatenate x and v (will raise an error)\n",
        "try:\n",
        "    np.concatenate((x, v))\n",
        "except ValueError as e:\n",
        "    print(\"\\n7. Error when concatenating x and v:\", e)\n",
        "    print(\"Explanation: Shapes of x (2x2) and v (2,) are not compatible for concatenation.\")"
      ],
      "metadata": {
        "colab": {
          "base_uri": "https://localhost:8080/"
        },
        "id": "C1uiWJ1SGDDC",
        "outputId": "751d763f-2c86-4890-8d35-194b7d635598"
      },
      "execution_count": null,
      "outputs": [
        {
          "output_type": "stream",
          "name": "stdout",
          "text": [
            "\n",
            "1. Addition of x and y:\n",
            " [[ 6  8]\n",
            " [10 13]]\n",
            "\n",
            "2. Subtraction of x and y:\n",
            " [[-4 -4]\n",
            " [-4 -3]]\n",
            "\n",
            "3. Multiplication of x by 2:\n",
            " [[ 2  4]\n",
            " [ 6 10]]\n",
            "\n",
            "4. Square of each element in x:\n",
            " [[ 1  4]\n",
            " [ 9 25]]\n",
            "\n",
            "5. Dot products:\n",
            "v and w: 219\n",
            "x and v: [29 77]\n",
            "x and y:\n",
            " [[19 22]\n",
            " [50 58]]\n",
            "\n",
            "6. Concatenation:\n",
            "x and y along rows:\n",
            " [[1 2]\n",
            " [3 5]\n",
            " [5 6]\n",
            " [7 8]]\n",
            "v and w along columns:\n",
            " [[ 9 11]\n",
            " [10 12]]\n",
            "\n",
            "7. Error when concatenating x and v: all the input arrays must have same number of dimensions, but the array at index 0 has 2 dimension(s) and the array at index 1 has 1 dimension(s)\n",
            "Explanation: Shapes of x (2x2) and v (2,) are not compatible for concatenation.\n"
          ]
        }
      ]
    },
    {
      "cell_type": "markdown",
      "source": [
        "# Problem - 4: Matrix Operations:\n",
        "• For the following arrays:\n",
        "A = np.array([[3,4],[7,8]]) and B = np.array([[5,3],[2,1]]);\n",
        "Prove following with Numpy:\n",
        "1. Prove A.A−1 = I.\n",
        "2. Prove AB ̸= BA.\n",
        "3. Prove (AB)\n",
        "\n",
        "T = BTAT\n",
        ".\n",
        "\n",
        "• Solve the following system of Linear equation using Inverse Methods.\n",
        "\n",
        "2x − 3y + z = −1\n",
        "x − y + 2z = −3\n",
        "3x + y − z = 9\n",
        "\n",
        "{Hint: First use Numpy array to represent the equation in Matrix form. Then Solve for: AX = B}\n",
        "\n",
        "• Now: solve the above equation using np.linalg.inv function.{Explore more about ”linalg” func-\n",
        "tion of Numpy}"
      ],
      "metadata": {
        "id": "ZzeahWxRGbo9"
      }
    },
    {
      "cell_type": "code",
      "source": [
        "# Define matrices\n",
        "A = np.array([[3, 4], [7, 8]])\n",
        "B = np.array([[5, 3], [2, 1]])\n",
        "\n",
        "# 1. Prove A.A^(-1) = I\n",
        "A_inv = np.linalg.inv(A)\n",
        "identity_check = np.dot(A, A_inv)\n",
        "print(\"\\n1. A.A^(-1):\\n\", identity_check)\n",
        "\n",
        "# 2. Prove AB != BA\n",
        "AB = np.dot(A, B)\n",
        "BA = np.dot(B, A)\n",
        "print(\"\\n2. AB:\\n\", AB)\n",
        "print(\"BA:\\n\", BA)\n",
        "print(\"AB != BA:\", not np.array_equal(AB, BA))\n",
        "\n",
        "# 3. Prove (AB)^T = B^T A^T\n",
        "AB_transpose = AB.T\n",
        "B_transpose_A_transpose = np.dot(B.T, A.T)\n",
        "print(\"\\n3. (AB)^T:\\n\", AB_transpose)\n",
        "print(\"B^T A^T:\\n\", B_transpose_A_transpose)\n",
        "print(\"(AB)^T == B^T A^T:\", np.array_equal(AB_transpose, B_transpose_A_transpose))\n",
        "\n",
        "# Solve the system of linear equations\n",
        "# 2x - 3y + z = -1\n",
        "# x - y + 2z = -3\n",
        "# 3x + y - z = 9\n",
        "coefficients = np.array([[2, -3, 1], [1, -1, 2], [3, 1, -1]])\n",
        "constants = np.array([-1, -3, 9])\n",
        "solution = np.linalg.inv(coefficients).dot(constants)\n",
        "print(\"\\nSolution to the system of equations:\", solution)"
      ],
      "metadata": {
        "colab": {
          "base_uri": "https://localhost:8080/"
        },
        "id": "TBd9HCw3GJAp",
        "outputId": "cb2206cc-69ee-41ee-d646-0b2ffbcf5fa3"
      },
      "execution_count": null,
      "outputs": [
        {
          "output_type": "stream",
          "name": "stdout",
          "text": [
            "\n",
            "1. A.A^(-1):\n",
            " [[1.00000000e+00 0.00000000e+00]\n",
            " [1.77635684e-15 1.00000000e+00]]\n",
            "\n",
            "2. AB:\n",
            " [[23 13]\n",
            " [51 29]]\n",
            "BA:\n",
            " [[36 44]\n",
            " [13 16]]\n",
            "AB != BA: True\n",
            "\n",
            "3. (AB)^T:\n",
            " [[23 51]\n",
            " [13 29]]\n",
            "B^T A^T:\n",
            " [[23 51]\n",
            " [13 29]]\n",
            "(AB)^T == B^T A^T: True\n",
            "\n",
            "Solution to the system of equations: [ 2.  1. -2.]\n"
          ]
        }
      ]
    },
    {
      "cell_type": "markdown",
      "source": [
        "# 10.2 Experiment: How Fast is Numpy?\n",
        "In this exercise, you will compare the performance and implementation of operations using plain Python\n",
        "lists (arrays) and NumPy arrays. Follow the instructions:\n",
        "1. Element-wise Addition:\n",
        "• Using Python Lists, perform element-wise addition of two lists of size 1, 000, 000. Measure\n",
        "and Print the time taken for this operation.\n",
        "• Using Numpy Arrays, Repeat the calculation and measure and print the time taken for\n",
        "this operation.\n",
        "2. Element-wise Multiplication\n",
        "• Using Python Lists, perform element-wise multiplication of two lists of size 1, 000, 000.\n",
        "Measure and Print the time taken for this operation.\n",
        "• Using Numpy Arrays, Repeat the calculation and measure and print the time taken for\n",
        "this operation.\n",
        "3. Dot Product\n",
        "• Using Python Lists, compute the dot product of two lists of size 1, 000, 000. Measure and\n",
        "Print the time taken for this operation.\n",
        "• Using Numpy Arrays, Repeat the calculation and measure and print the time taken for\n",
        "this operation.\n",
        "4. Matrix Multiplication\n",
        "\n",
        "• Using Python lists, perform matrix multiplication of two matrices of size 1000x1000. Mea-\n",
        "sure and print the time taken for this operation.\n",
        "\n",
        "• Using NumPy arrays, perform matrix multiplication of two matrices of size 1000x1000.\n",
        "Measure and print the time taken for this operation."
      ],
      "metadata": {
        "id": "3qb8UggfGkoX"
      }
    },
    {
      "cell_type": "code",
      "source": [
        "import time\n",
        "\n",
        "# Element-wise addition\n",
        "size = 1000000\n",
        "python_list1 = list(range(size))\n",
        "python_list2 = list(range(size))\n",
        "\n",
        "start_time = time.time()\n",
        "result = [a + b for a, b in zip(python_list1, python_list2)]\n",
        "python_time = time.time() - start_time\n",
        "print(\"\\nPython list addition time:\", python_time)\n",
        "\n",
        "numpy_array1 = np.arange(size)\n",
        "numpy_array2 = np.arange(size)\n",
        "\n",
        "start_time = time.time()\n",
        "result = numpy_array1 + numpy_array2\n",
        "numpy_time = time.time() - start_time\n",
        "print(\"NumPy array addition time:\", numpy_time)\n",
        "\n",
        "# Repeat for multiplication and dot product"
      ],
      "metadata": {
        "colab": {
          "base_uri": "https://localhost:8080/"
        },
        "id": "ZoBH3Zo-GzO7",
        "outputId": "a192c81d-6d0e-45d2-8581-bb03a533c54e"
      },
      "execution_count": null,
      "outputs": [
        {
          "output_type": "stream",
          "name": "stdout",
          "text": [
            "\n",
            "Python list addition time: 0.0815286636352539\n",
            "NumPy array addition time: 0.024537086486816406\n"
          ]
        }
      ]
    },
    {
      "cell_type": "code",
      "source": [],
      "metadata": {
        "id": "eehK1VmUHMeI"
      },
      "execution_count": null,
      "outputs": []
    }
  ]
}